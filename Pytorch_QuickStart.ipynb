{
  "nbformat": 4,
  "nbformat_minor": 0,
  "metadata": {
    "colab": {
      "name": "[1st]Pytorch.ipynb",
      "provenance": [],
      "collapsed_sections": []
    },
    "kernelspec": {
      "name": "python3",
      "display_name": "Python 3"
    },
    "language_info": {
      "name": "python"
    },
    "accelerator": "GPU",
    "gpuClass": "standard"
  },
  "cells": [
    {
      "cell_type": "code",
      "source": [
        "path = '/content/drive/MyDrive/Colab Notebooks/Pytorch'"
      ],
      "metadata": {
        "id": "jB3EnH7ZV32a"
      },
      "execution_count": null,
      "outputs": []
    },
    {
      "cell_type": "code",
      "execution_count": null,
      "metadata": {
        "id": "vbu2aCYXnczW"
      },
      "outputs": [],
      "source": [
        "import torch\n",
        "from torch import nn\n",
        "from torch.utils.data import DataLoader\n",
        "from torchvision import datasets\n",
        "from torchvision.transforms import ToTensor"
      ]
    },
    {
      "cell_type": "code",
      "source": [
        "# torchvision.datasets을 통해 데이터 로딩\n",
        "training_data = datasets.FashionMNIST(\n",
        "                        root='data',\n",
        "                        train=True,\n",
        "                        download=True,\n",
        "                        transform=ToTensor()\n",
        ")\n",
        "\n",
        "test_data = datasets.FashionMNIST(\n",
        "                        root='data',\n",
        "                        train=False,\n",
        "                        download=True,\n",
        "                        transform=ToTensor()\n",
        ")"
      ],
      "metadata": {
        "id": "FrxjhKARn2QF"
      },
      "execution_count": null,
      "outputs": []
    },
    {
      "cell_type": "code",
      "source": [
        "# 모듈명 그대로 클래스 타입\n",
        "type(training_data)"
      ],
      "metadata": {
        "colab": {
          "base_uri": "https://localhost:8080/"
        },
        "id": "GQqZddc2ABhE",
        "outputId": "cd2044c2-28af-4a3d-d897-b75040d80b18"
      },
      "execution_count": null,
      "outputs": [
        {
          "output_type": "execute_result",
          "data": {
            "text/plain": [
              "torchvision.datasets.mnist.FashionMNIST"
            ]
          },
          "metadata": {},
          "execution_count": 31
        }
      ]
    },
    {
      "cell_type": "code",
      "source": [
        "# transform을 적용하지 않고 데이터 로딩\n",
        "a = datasets.FashionMNIST(\n",
        "                        root='data',\n",
        "                        train=True,\n",
        "                        download=True\n",
        ")"
      ],
      "metadata": {
        "id": "u_FZvloYB7Kr"
      },
      "execution_count": null,
      "outputs": []
    },
    {
      "cell_type": "code",
      "source": [
        "# for문으로 train_data의 data 하나만 끄집어내기\n",
        "for i in training_data:\n",
        "  print(type(i))\n",
        "  print(type(i[0]))\n",
        "  # print(i)\n",
        "  # normalized tensor 출력\n",
        "  break"
      ],
      "metadata": {
        "colab": {
          "base_uri": "https://localhost:8080/"
        },
        "id": "ZDS0QuAfE855",
        "outputId": "a241f180-c16c-41d3-d211-b4db9c8d880b"
      },
      "execution_count": null,
      "outputs": [
        {
          "output_type": "stream",
          "name": "stdout",
          "text": [
            "<class 'tuple'>\n",
            "<class 'torch.Tensor'>\n"
          ]
        }
      ]
    },
    {
      "cell_type": "code",
      "source": [
        "# transform 하지 않은 data 하나만 불러오기\n",
        "for i in a:\n",
        "  print(type(i))\n",
        "  print(i)\n",
        "  break"
      ],
      "metadata": {
        "colab": {
          "base_uri": "https://localhost:8080/"
        },
        "id": "jaUI3CDCFFrH",
        "outputId": "c35cc903-2657-4978-bc9f-7cf64b6ce606"
      },
      "execution_count": null,
      "outputs": [
        {
          "output_type": "stream",
          "name": "stdout",
          "text": [
            "<class 'tuple'>\n",
            "(<PIL.Image.Image image mode=L size=28x28 at 0x7FE8E005A750>, 9)\n"
          ]
        }
      ]
    },
    {
      "cell_type": "code",
      "source": [
        "batch_size = 64\n",
        "\n",
        "# Create data loaders.\n",
        "train_dataloader = DataLoader(training_data, batch_size=batch_size)\n",
        "test_dataloader = DataLoader(test_data, batch_size=batch_size)\n",
        "\n",
        "for X, y in test_dataloader:\n",
        "    print(type(X))\n",
        "    print(f\"Shape of X [N, C, H, W]: {X.shape}\")\n",
        "    print(f\"Shape of y: {y.shape} {y.dtype}\")\n",
        "    break"
      ],
      "metadata": {
        "colab": {
          "base_uri": "https://localhost:8080/"
        },
        "id": "8U_kpPaRAMpH",
        "outputId": "a23b6794-d46c-4226-a1a5-1cce936dbdae"
      },
      "execution_count": null,
      "outputs": [
        {
          "output_type": "stream",
          "name": "stdout",
          "text": [
            "<class 'torch.Tensor'>\n",
            "Shape of X [N, C, H, W]: torch.Size([64, 1, 28, 28])\n",
            "Shape of y: torch.Size([64]) torch.int64\n"
          ]
        }
      ]
    },
    {
      "cell_type": "code",
      "source": [
        "# device를 가져온다\n",
        "device = 'cuda' if torch.cuda.is_available() else 'cpu'\n",
        "print(f'Using {device} device')\n",
        "\n",
        "class NeuralNetwork(nn.Module):\n",
        "  def __init__(self):\n",
        "    super().__init__()\n",
        "    self.flatten = nn.Flatten()\n",
        "    self.linear_relu_stack = nn.Sequential(\n",
        "                              nn.Linear(28*28, 512),\n",
        "                              nn.ReLU(),\n",
        "                              nn.Linear(512, 512),\n",
        "                              nn.ReLU(),\n",
        "                              nn.Linear(512, 10)\n",
        "    )\n",
        "\n",
        "  def forward(self, x):\n",
        "    x = self.flatten(x)\n",
        "    logits = self.linear_relu_stack(x)\n",
        "    return logits\n",
        "\n",
        "# model = NeuralNetwork()\n",
        "model = NeuralNetwork().to(device)\n",
        "print(model)"
      ],
      "metadata": {
        "colab": {
          "base_uri": "https://localhost:8080/"
        },
        "id": "nYhyJSy4O-Qn",
        "outputId": "d72721ba-8b11-4d8f-fdcd-4f97397a7d7d"
      },
      "execution_count": null,
      "outputs": [
        {
          "output_type": "stream",
          "name": "stdout",
          "text": [
            "Using cuda device\n",
            "NeuralNetwork(\n",
            "  (flatten): Flatten(start_dim=1, end_dim=-1)\n",
            "  (linear_relu_stack): Sequential(\n",
            "    (0): Linear(in_features=784, out_features=512, bias=True)\n",
            "    (1): ReLU()\n",
            "    (2): Linear(in_features=512, out_features=512, bias=True)\n",
            "    (3): ReLU()\n",
            "    (4): Linear(in_features=512, out_features=10, bias=True)\n",
            "  )\n",
            ")\n"
          ]
        }
      ]
    },
    {
      "cell_type": "code",
      "source": [
        "loss_fn = nn.CrossEntropyLoss()\n",
        "optimizer = torch.optim.SGD(model.parameters(), lr=1e-3)"
      ],
      "metadata": {
        "id": "yqay1zYYTCSS"
      },
      "execution_count": null,
      "outputs": []
    },
    {
      "cell_type": "code",
      "source": [
        "def train(dataloader, model, loss_fn, optimizer):\n",
        "  size = len(dataloader.dataset)\n",
        "  model.train()\n",
        "\n",
        "  for batch, (X, y) in enumerate(dataloader):\n",
        "    X, y = X.to(device), y.to(device)\n",
        "\n",
        "    pred = model(X)\n",
        "    loss = loss_fn(pred, y)\n",
        "\n",
        "    optimizer.zero_grad()\n",
        "    loss.backward()\n",
        "    optimizer.step()\n",
        "\n",
        "    if batch % 100 == 0:\n",
        "      loss, current = loss.item(), batch * len(X)\n",
        "      print(f'loss : {loss:>7f} [{current/size*100:>0.2f}%]')"
      ],
      "metadata": {
        "id": "DJTKwo6zd5fz"
      },
      "execution_count": null,
      "outputs": []
    },
    {
      "cell_type": "code",
      "source": [
        "def test(dataloader, model, loss_fn):\n",
        "  size = len(dataloader.dataset)\n",
        "  num_batches = len(dataloader)\n",
        "\n",
        "  model.eval()\n",
        "  test_loss, correct = 0, 0\n",
        "  with torch.no_grad():\n",
        "    for X, y in dataloader:\n",
        "      X, y = X.to(device), y.to(device)\n",
        "      pred = model(X)\n",
        "      test_loss += loss_fn(pred, y).item()\n",
        "      correct += (pred.argmax(1) == y).type(torch.float).sum().item()\n",
        "\n",
        "  test_loss /= num_batches\n",
        "  correct /= size\n",
        "  print(f\"Test Error: \\n Accuracy: {(100*correct):>0.1f}%, Avg loss: {test_loss:>8f} \\n\")"
      ],
      "metadata": {
        "id": "4Fsj0XYKwaQS"
      },
      "execution_count": null,
      "outputs": []
    },
    {
      "cell_type": "code",
      "source": [
        "epochs = 5\n",
        "\n",
        "for t in range(epochs):\n",
        "  print(f'epoch : {t+1} \\n-------------------')\n",
        "  train(train_dataloader, model, loss_fn, optimizer)\n",
        "  test(train_dataloader, model, loss_fn)\n",
        "\n",
        "print('Done')"
      ],
      "metadata": {
        "colab": {
          "base_uri": "https://localhost:8080/"
        },
        "id": "hSgDPyA_PM_1",
        "outputId": "6110b9d8-aaad-4ffa-a9d7-f8205f4847b8"
      },
      "execution_count": null,
      "outputs": [
        {
          "output_type": "stream",
          "name": "stdout",
          "text": [
            "epoch : 1 \n",
            "-------------------\n",
            "loss : 2.296475 [0.00%]\n",
            "loss : 2.290001 [10.67%]\n",
            "loss : 2.272003 [21.33%]\n",
            "loss : 2.271149 [32.00%]\n",
            "loss : 2.254327 [42.67%]\n",
            "loss : 2.217104 [53.33%]\n",
            "loss : 2.239146 [64.00%]\n",
            "loss : 2.195008 [74.67%]\n",
            "loss : 2.191325 [85.33%]\n",
            "loss : 2.169972 [96.00%]\n",
            "Test Error: \n",
            " Accuracy: 36.8%, Avg loss: 2.160582 \n",
            "\n",
            "epoch : 2 \n",
            "-------------------\n",
            "loss : 2.165943 [0.00%]\n",
            "loss : 2.161316 [10.67%]\n",
            "loss : 2.109559 [21.33%]\n",
            "loss : 2.126264 [32.00%]\n",
            "loss : 2.074802 [42.67%]\n",
            "loss : 2.007754 [53.33%]\n",
            "loss : 2.044101 [64.00%]\n",
            "loss : 1.961218 [74.67%]\n",
            "loss : 1.968656 [85.33%]\n",
            "loss : 1.900320 [96.00%]\n",
            "Test Error: \n",
            " Accuracy: 52.6%, Avg loss: 1.897308 \n",
            "\n",
            "epoch : 3 \n",
            "-------------------\n",
            "loss : 1.925087 [0.00%]\n",
            "loss : 1.902054 [10.67%]\n",
            "loss : 1.797043 [21.33%]\n",
            "loss : 1.833885 [32.00%]\n",
            "loss : 1.719819 [42.67%]\n",
            "loss : 1.667509 [53.33%]\n",
            "loss : 1.692731 [64.00%]\n",
            "loss : 1.593347 [74.67%]\n",
            "loss : 1.621183 [85.33%]\n",
            "loss : 1.515342 [96.00%]\n",
            "Test Error: \n",
            " Accuracy: 60.6%, Avg loss: 1.532386 \n",
            "\n",
            "epoch : 4 \n",
            "-------------------\n",
            "loss : 1.595716 [0.00%]\n",
            "loss : 1.567258 [10.67%]\n",
            "loss : 1.429790 [21.33%]\n",
            "loss : 1.495440 [32.00%]\n",
            "loss : 1.373128 [42.67%]\n",
            "loss : 1.367947 [53.33%]\n",
            "loss : 1.382057 [64.00%]\n",
            "loss : 1.306050 [74.67%]\n",
            "loss : 1.341612 [85.33%]\n",
            "loss : 1.244634 [96.00%]\n",
            "Test Error: \n",
            " Accuracy: 64.3%, Avg loss: 1.262832 \n",
            "\n",
            "epoch : 5 \n",
            "-------------------\n",
            "loss : 1.339713 [0.00%]\n",
            "loss : 1.324913 [10.67%]\n",
            "loss : 1.167885 [21.33%]\n",
            "loss : 1.269895 [32.00%]\n",
            "loss : 1.140001 [42.67%]\n",
            "loss : 1.166658 [53.33%]\n",
            "loss : 1.187454 [64.00%]\n",
            "loss : 1.121572 [74.67%]\n",
            "loss : 1.162223 [85.33%]\n",
            "loss : 1.081707 [96.00%]\n"
          ]
        }
      ]
    },
    {
      "cell_type": "code",
      "source": [
        "torch.save(model.state_dict(), 'model.pth')\n",
        "print(\"Saved Pytorch Model State to model.pth\")"
      ],
      "metadata": {
        "id": "ZG0FbTdKc-dI"
      },
      "execution_count": null,
      "outputs": []
    },
    {
      "cell_type": "code",
      "source": [
        "model = NeuralNetwork()\n",
        "model.load_state_dict(torch.load(\"model.pth\"))"
      ],
      "metadata": {
        "id": "n0lj8DAoffJE"
      },
      "execution_count": null,
      "outputs": []
    },
    {
      "cell_type": "markdown",
      "source": [
        "# 실습"
      ],
      "metadata": {
        "id": "s3Tb2qoA1EUl"
      }
    },
    {
      "cell_type": "code",
      "source": [
        "import torch\n",
        "from torch import nn\n",
        "from torchvision import datasets\n",
        "from torchvision.transforms import ToTensor\n",
        "from torch.utils.data import DataLoader"
      ],
      "metadata": {
        "id": "qKUCAlLU5m5h"
      },
      "execution_count": null,
      "outputs": []
    },
    {
      "cell_type": "code",
      "source": [
        "device = 'cuda' if torch.cuda.is_available() else 'cpu'\n",
        "print(f'Using {device} device')"
      ],
      "metadata": {
        "colab": {
          "base_uri": "https://localhost:8080/"
        },
        "id": "3NQ50-a2zfnv",
        "outputId": "2390a5a4-80a4-43fb-f42b-91294691f576"
      },
      "execution_count": null,
      "outputs": [
        {
          "output_type": "stream",
          "name": "stdout",
          "text": [
            "Using cuda device\n"
          ]
        }
      ]
    },
    {
      "cell_type": "code",
      "source": [
        "training_ds = datasets.FashionMNIST(\n",
        "                root='/data',\n",
        "                train=True,\n",
        "                transform=ToTensor(),\n",
        "                download=True\n",
        ")\n",
        "\n",
        "test_ds = datasets.FashionMNIST(\n",
        "                root='/data',\n",
        "                train=False,\n",
        "                transform=ToTensor(),\n",
        "                download=True\n",
        ")"
      ],
      "metadata": {
        "id": "IJ2clUg1wh0b"
      },
      "execution_count": null,
      "outputs": []
    },
    {
      "cell_type": "code",
      "source": [
        "batch_size = 64\n",
        "\n",
        "train_dataloader = DataLoader(training_ds, batch_size=batch_size)\n",
        "test_dataloader = DataLoader(test_ds, batch_size=batch_size)"
      ],
      "metadata": {
        "id": "9vSbBtJBw6fm"
      },
      "execution_count": null,
      "outputs": []
    },
    {
      "cell_type": "code",
      "source": [
        "from torch.nn.modules.activation import Softmax\n",
        "class NeuralNetwork(nn.Module):\n",
        "  sw = True\n",
        "  def __init__(self):\n",
        "    super().__init__()\n",
        "    self.flatten = nn.Flatten()\n",
        "    self.network = nn.Sequential(\n",
        "                      nn.Linear(28*28, 512),\n",
        "                      nn.ReLU(),\n",
        "                      nn.Linear(512, 512),\n",
        "                      nn.ReLU(),\n",
        "                      nn.Linear(512, 10),\n",
        "                      nn.Softmax(1)\n",
        "    )\n",
        "  \n",
        "  \n",
        "  def forward(self, x):\n",
        "    x = self.flatten(x)\n",
        "    logits = self.network(x)\n",
        "    if NeuralNetwork.sw:\n",
        "      print(logits)\n",
        "      NeuralNetwork.sw=False\n",
        "    return logits     "
      ],
      "metadata": {
        "id": "bzZkvjSRx0DL"
      },
      "execution_count": null,
      "outputs": []
    },
    {
      "cell_type": "code",
      "source": [
        "model = NeuralNetwork().to(device)\n",
        "model"
      ],
      "metadata": {
        "colab": {
          "base_uri": "https://localhost:8080/"
        },
        "id": "e_tZfaeLyaRO",
        "outputId": "dc404b21-03cd-42be-a94e-c729c6435feb"
      },
      "execution_count": null,
      "outputs": [
        {
          "output_type": "execute_result",
          "data": {
            "text/plain": [
              "NeuralNetwork(\n",
              "  (flatten): Flatten(start_dim=1, end_dim=-1)\n",
              "  (network): Sequential(\n",
              "    (0): Linear(in_features=784, out_features=512, bias=True)\n",
              "    (1): ReLU()\n",
              "    (2): Linear(in_features=512, out_features=512, bias=True)\n",
              "    (3): ReLU()\n",
              "    (4): Linear(in_features=512, out_features=10, bias=True)\n",
              "    (5): Softmax(dim=1)\n",
              "  )\n",
              ")"
            ]
          },
          "metadata": {},
          "execution_count": 101
        }
      ]
    },
    {
      "cell_type": "code",
      "source": [
        "loss_fn = nn.CrossEntropyLoss()\n",
        "optimizer = torch.optim.SGD(model.parameters(), lr=1e-3)"
      ],
      "metadata": {
        "id": "6eg1rzZM0TPr"
      },
      "execution_count": null,
      "outputs": []
    },
    {
      "cell_type": "code",
      "source": [
        "def train(dataloader, model, loss_fn, optimizer):\n",
        "  size = len(dataloader.dataset)\n",
        "  model.train()\n",
        "\n",
        "  for batch, (X, y) in enumerate(dataloader):\n",
        "    X, y = X.to(device), y.to(device)\n",
        "\n",
        "    pred = model(X)\n",
        "    loss = loss_fn(pred, y)\n",
        "\n",
        "    optimizer.zero_grad()\n",
        "    loss.backward()\n",
        "    optimizer.step()\n",
        "\n",
        "    if batch % 100 == 0:\n",
        "      loss = loss.item()\n",
        "      current = len(X) * batch\n",
        "      print(f'loss : {loss} [{current/size*100:>0.2f}%]')"
      ],
      "metadata": {
        "id": "vCMjcdN20Et9"
      },
      "execution_count": null,
      "outputs": []
    },
    {
      "cell_type": "code",
      "source": [
        "def test(dataloader, model, loss_fn):\n",
        "  size = len(dataloader.dataset)\n",
        "  num_batches = len(dataloader)\n",
        "\n",
        "  model.eval()\n",
        "  test_loss, correct = 0, 0\n",
        "  with torch.no_grad():\n",
        "    for X, y in dataloader:\n",
        "      X, y = X.to(device), y.to(device)\n",
        "\n",
        "      pred = model(X)\n",
        "      test_loss += loss_fn(pred, y).item()\n",
        "      correct += (pred.argmax(1) == y).type(torch.float).sum().item()\n",
        "  print(f'Test Error\\n Accuracy: {correct/size*100}% Avg Loss: {test_loss/num_batches}')"
      ],
      "metadata": {
        "id": "9YZlNfHa2bIp"
      },
      "execution_count": null,
      "outputs": []
    },
    {
      "cell_type": "code",
      "source": [
        "epochs = 1\n",
        "\n",
        "for t in range(epochs):\n",
        "  print(f'Epochs : {t+1}\\n ---------------------')\n",
        "  train(train_dataloader, model, loss_fn, optimizer)\n",
        "  test(test_dataloader, model, loss_fn)\n",
        "  print()"
      ],
      "metadata": {
        "colab": {
          "base_uri": "https://localhost:8080/"
        },
        "id": "GtEXGC1q2dau",
        "outputId": "9d61ae2a-933a-417d-dc1f-e7f44a046ed6"
      },
      "execution_count": null,
      "outputs": [
        {
          "output_type": "stream",
          "name": "stdout",
          "text": [
            "Epochs : 1\n",
            " ---------------------\n",
            "tensor([[5.6447e-08, 1.2161e-10, 1.8968e-06, 4.5210e-06, 3.6435e-06, 1.0162e-04,\n",
            "         1.5413e-07, 3.7817e-03, 1.7264e-02, 9.7884e-01],\n",
            "        [9.8889e-01, 5.1186e-06, 2.9729e-03, 7.3989e-03, 5.2729e-04, 2.8796e-06,\n",
            "         8.1555e-06, 5.4051e-08, 1.9063e-04, 4.2817e-06],\n",
            "        [7.8851e-02, 4.5782e-01, 1.6309e-02, 3.8612e-01, 4.3845e-02, 3.5496e-03,\n",
            "         6.4014e-03, 1.9078e-03, 2.8980e-03, 2.3029e-03],\n",
            "        [5.3822e-01, 8.0083e-02, 6.4182e-02, 2.3714e-01, 7.4543e-02, 6.7570e-04,\n",
            "         2.6074e-03, 7.5743e-05, 2.2305e-03, 2.4937e-04],\n",
            "        [2.6143e-02, 8.1044e-02, 5.4564e-04, 8.8720e-01, 4.5827e-03, 7.4173e-05,\n",
            "         1.1711e-04, 2.5372e-05, 1.9114e-04, 7.3015e-05],\n",
            "        [1.0228e-02, 4.2577e-06, 8.1238e-01, 6.6282e-04, 1.6585e-01, 2.6885e-05,\n",
            "         5.0910e-05, 2.2024e-06, 1.0778e-02, 1.4518e-05],\n",
            "        [8.0685e-06, 1.5653e-05, 9.5397e-05, 4.3480e-04, 3.7253e-04, 3.4518e-03,\n",
            "         9.2965e-05, 9.7797e-01, 1.1971e-02, 5.5867e-03],\n",
            "        [1.1092e-03, 3.1959e-08, 8.2070e-01, 5.1379e-05, 1.4927e-01, 5.6175e-06,\n",
            "         3.9419e-06, 6.7747e-07, 2.8850e-02, 1.2536e-05],\n",
            "        [3.0800e-02, 3.1954e-03, 2.4139e-02, 4.0221e-02, 1.6219e-02, 5.9371e-02,\n",
            "         1.3758e-02, 8.6322e-02, 1.2243e-01, 6.0354e-01],\n",
            "        [2.1207e-03, 7.8144e-06, 1.0086e-02, 1.8644e-03, 5.7333e-03, 8.9669e-03,\n",
            "         7.3610e-04, 9.3452e-03, 2.6059e-01, 7.0055e-01],\n",
            "        [9.4711e-01, 4.3031e-04, 4.4312e-03, 4.6209e-02, 1.6103e-03, 1.2242e-05,\n",
            "         5.1237e-05, 2.9583e-07, 1.3148e-04, 1.4150e-05],\n",
            "        [4.2794e-04, 5.4839e-07, 2.1150e-03, 2.9683e-03, 2.7414e-03, 9.5878e-04,\n",
            "         3.0669e-05, 1.9093e-03, 6.7367e-02, 9.2148e-01],\n",
            "        [7.3321e-04, 3.2930e-04, 5.4955e-03, 8.8619e-03, 1.2571e-02, 3.3337e-02,\n",
            "         2.1912e-03, 5.4633e-01, 1.8304e-01, 2.0711e-01],\n",
            "        [9.9396e-04, 6.7162e-04, 7.0179e-03, 6.3031e-03, 1.2495e-02, 3.6463e-02,\n",
            "         3.5512e-03, 7.3753e-01, 1.4711e-01, 4.7872e-02],\n",
            "        [3.1419e-04, 5.8261e-04, 1.3770e-03, 4.3599e-03, 2.9659e-03, 1.7395e-02,\n",
            "         1.5601e-03, 9.2153e-01, 2.9963e-02, 1.9949e-02],\n",
            "        [6.9111e-08, 1.0225e-09, 2.2513e-06, 8.7649e-06, 4.9487e-06, 3.0722e-04,\n",
            "         4.9693e-07, 3.8735e-02, 1.5269e-02, 9.4567e-01],\n",
            "        [8.5491e-03, 8.7839e-01, 7.5097e-04, 1.0701e-01, 5.0655e-03, 3.7908e-05,\n",
            "         1.5268e-04, 1.0154e-05, 2.0767e-05, 1.6151e-05],\n",
            "        [9.3840e-01, 3.2629e-04, 4.0988e-03, 5.4193e-02, 2.8108e-03, 7.1688e-06,\n",
            "         3.3948e-05, 1.8456e-07, 1.2826e-04, 4.8234e-06],\n",
            "        [9.0212e-03, 2.8548e-07, 7.4022e-01, 2.7621e-04, 1.8753e-01, 2.8241e-05,\n",
            "         3.3842e-05, 2.0712e-06, 6.2858e-02, 2.6462e-05],\n",
            "        [6.4022e-02, 1.6211e-02, 2.6567e-01, 6.6679e-02, 4.8071e-01, 1.1131e-02,\n",
            "         1.2687e-02, 5.7694e-03, 6.9444e-02, 7.6717e-03],\n",
            "        [9.5465e-02, 3.5521e-02, 7.4153e-04, 8.6626e-01, 1.7224e-03, 4.2809e-05,\n",
            "         9.2153e-05, 6.7309e-06, 6.6457e-05, 8.3145e-05],\n",
            "        [3.6005e-03, 7.9620e-01, 5.3061e-04, 1.9308e-01, 6.2240e-03, 7.1190e-05,\n",
            "         1.6799e-04, 4.5497e-05, 4.7170e-05, 3.2912e-05],\n",
            "        [2.8107e-02, 3.4172e-03, 5.8627e-02, 2.2233e-01, 5.4355e-01, 2.7288e-03,\n",
            "         1.5686e-03, 1.6520e-03, 1.3207e-01, 5.9518e-03],\n",
            "        [1.3480e-04, 2.0361e-08, 3.2853e-03, 1.0656e-04, 2.4057e-03, 6.8216e-04,\n",
            "         2.2264e-05, 1.9559e-03, 9.7939e-01, 1.2015e-02],\n",
            "        [3.0834e-03, 8.9646e-06, 2.2635e-01, 8.8757e-04, 7.6616e-01, 3.8568e-06,\n",
            "         1.4672e-05, 2.8546e-07, 3.4924e-03, 6.3049e-07],\n",
            "        [2.8456e-02, 1.4744e-01, 1.6995e-03, 7.9853e-01, 2.3566e-02, 4.1838e-05,\n",
            "         1.2105e-04, 1.1761e-05, 1.1269e-04, 1.8412e-05],\n",
            "        [9.0265e-01, 8.2166e-05, 5.7579e-02, 1.9094e-02, 1.4432e-02, 7.8501e-05,\n",
            "         1.7453e-04, 4.7958e-06, 5.8656e-03, 4.3077e-05],\n",
            "        [3.4547e-03, 1.2170e-07, 8.3522e-01, 6.6665e-05, 1.5789e-01, 9.4411e-07,\n",
            "         2.7495e-06, 2.6782e-08, 3.3707e-03, 4.0608e-07],\n",
            "        [1.7385e-02, 3.2052e-04, 3.6361e-01, 5.7813e-03, 6.0203e-01, 1.6703e-04,\n",
            "         4.5516e-04, 2.4629e-05, 1.0167e-02, 5.6850e-05],\n",
            "        [9.6640e-04, 4.9903e-07, 2.6166e-01, 3.3811e-04, 6.9588e-01, 1.3442e-05,\n",
            "         1.3778e-05, 1.9138e-06, 4.1105e-02, 1.6672e-05],\n",
            "        [1.0585e-02, 1.2382e-02, 2.8197e-02, 4.1478e-02, 4.9779e-02, 7.4906e-02,\n",
            "         2.0018e-02, 5.7211e-01, 1.5288e-01, 3.7660e-02],\n",
            "        [9.1360e-02, 7.2786e-02, 5.3336e-03, 7.8811e-01, 1.9834e-02, 3.7114e-03,\n",
            "         3.2130e-03, 2.4715e-03, 8.0953e-03, 5.0833e-03],\n",
            "        [3.9352e-02, 1.6807e-05, 3.6653e-01, 4.6841e-03, 5.3739e-01, 1.0671e-04,\n",
            "         1.6651e-04, 1.0509e-05, 5.1665e-02, 7.3631e-05],\n",
            "        [1.0847e-01, 9.5036e-02, 2.1741e-01, 9.5170e-02, 3.1243e-01, 3.1453e-02,\n",
            "         4.2544e-02, 2.1794e-02, 6.0226e-02, 1.5465e-02],\n",
            "        [4.2587e-01, 5.9207e-02, 1.2783e-01, 1.6178e-01, 1.2621e-01, 1.7063e-02,\n",
            "         2.4674e-02, 6.4076e-03, 4.0655e-02, 1.0302e-02],\n",
            "        [1.0346e-02, 1.7597e-04, 5.0458e-02, 1.9315e-02, 1.2862e-01, 7.3511e-03,\n",
            "         2.1660e-03, 8.2329e-03, 7.6189e-01, 1.1439e-02],\n",
            "        [6.5354e-02, 6.4316e-05, 3.3271e-02, 2.3332e-02, 2.0810e-02, 1.2206e-02,\n",
            "         2.7762e-03, 5.1228e-03, 5.4508e-01, 2.9198e-01],\n",
            "        [2.8714e-01, 5.1598e-04, 4.6438e-01, 2.5245e-02, 1.1959e-01, 2.8896e-03,\n",
            "         3.0066e-03, 4.9546e-04, 9.2934e-02, 3.8021e-03],\n",
            "        [3.0136e-05, 9.9187e-01, 4.8742e-06, 8.0062e-03, 8.4569e-05, 5.6999e-07,\n",
            "         2.4812e-06, 3.1010e-07, 7.3865e-08, 2.3180e-07],\n",
            "        [5.2344e-03, 1.0791e-06, 2.9648e-01, 6.7528e-04, 6.9270e-01, 1.7413e-06,\n",
            "         5.8932e-06, 7.5898e-08, 4.8994e-03, 4.7562e-07],\n",
            "        [2.2654e-02, 2.4497e-05, 5.2347e-01, 3.7901e-03, 4.4165e-01, 2.6285e-05,\n",
            "         7.0578e-05, 1.6971e-06, 8.2950e-03, 1.5461e-05],\n",
            "        [3.7879e-06, 2.6135e-06, 3.7098e-05, 2.0445e-04, 9.2204e-05, 2.9170e-03,\n",
            "         3.6211e-05, 9.4974e-01, 8.9238e-03, 3.8048e-02],\n",
            "        [5.4204e-08, 8.8243e-10, 1.5262e-06, 7.1707e-06, 3.2095e-06, 3.0173e-04,\n",
            "         4.0872e-07, 6.7219e-02, 8.8250e-03, 9.2364e-01],\n",
            "        [3.4494e-04, 1.6815e-04, 3.5827e-03, 4.0388e-03, 7.5771e-03, 2.6695e-02,\n",
            "         1.5041e-03, 7.1570e-01, 1.6832e-01, 7.2067e-02],\n",
            "        [1.8384e-05, 2.0042e-08, 1.4698e-04, 2.6996e-04, 1.0554e-04, 2.8249e-04,\n",
            "         2.5147e-06, 1.5557e-03, 1.8481e-02, 9.7914e-01],\n",
            "        [1.4021e-02, 1.4506e-05, 6.4070e-01, 1.1517e-03, 3.2305e-01, 6.0911e-05,\n",
            "         1.3342e-04, 5.7080e-06, 2.0846e-02, 2.2459e-05],\n",
            "        [6.5062e-06, 6.2408e-06, 1.2521e-04, 3.0319e-04, 4.0044e-04, 3.9718e-03,\n",
            "         8.4356e-05, 9.6156e-01, 2.3524e-02, 1.0014e-02],\n",
            "        [2.1451e-01, 3.0948e-02, 2.0702e-03, 7.4640e-01, 5.8980e-03, 1.8406e-05,\n",
            "         7.8389e-05, 1.2704e-06, 6.0267e-05, 1.5164e-05],\n",
            "        [9.8079e-01, 4.1109e-05, 5.6251e-03, 1.1725e-02, 1.2857e-03, 1.6881e-05,\n",
            "         4.7430e-05, 4.3447e-07, 4.5339e-04, 1.9470e-05],\n",
            "        [1.0029e-01, 6.0253e-03, 8.9515e-03, 8.0103e-01, 8.1008e-02, 1.1179e-04,\n",
            "         1.7540e-04, 3.0867e-05, 2.3027e-03, 7.8423e-05],\n",
            "        [8.4278e-03, 1.0622e-01, 1.3825e-04, 8.8357e-01, 1.3602e-03, 4.6983e-05,\n",
            "         7.1528e-05, 2.0811e-05, 3.7364e-05, 1.0286e-04],\n",
            "        [2.6241e-02, 1.4709e-01, 5.7546e-04, 8.2367e-01, 1.9351e-03, 9.2810e-05,\n",
            "         1.5370e-04, 3.5384e-05, 7.9922e-05, 1.2544e-04],\n",
            "        [5.0206e-06, 6.0454e-06, 7.9297e-05, 3.1258e-04, 3.2669e-04, 3.1128e-03,\n",
            "         6.2578e-05, 9.7024e-01, 1.9962e-02, 5.8917e-03],\n",
            "        [6.0616e-03, 1.2743e-07, 6.6855e-01, 1.9541e-04, 3.2215e-01, 6.2204e-07,\n",
            "         2.0611e-06, 1.3047e-08, 3.0440e-03, 3.5353e-07],\n",
            "        [8.2559e-02, 1.0948e-02, 2.6518e-01, 6.0200e-02, 5.0244e-01, 5.4064e-03,\n",
            "         8.1422e-03, 2.2071e-03, 6.0524e-02, 2.3943e-03],\n",
            "        [9.6793e-01, 3.3527e-05, 1.1391e-02, 1.5968e-02, 4.2158e-03, 6.2130e-06,\n",
            "         2.5231e-05, 9.7865e-08, 4.2090e-04, 7.9112e-06],\n",
            "        [6.0285e-01, 6.0765e-02, 6.4489e-02, 2.0187e-01, 6.9153e-02, 8.0515e-05,\n",
            "         5.6677e-04, 6.6793e-06, 2.0223e-04, 1.6192e-05],\n",
            "        [1.2123e-01, 2.4757e-03, 1.0876e-02, 5.1685e-01, 4.9868e-02, 1.2273e-02,\n",
            "         3.3737e-03, 2.0199e-02, 2.4041e-01, 2.2454e-02],\n",
            "        [3.3102e-03, 8.1063e-02, 6.3973e-05, 9.1430e-01, 9.2906e-04, 4.8070e-05,\n",
            "         4.3207e-05, 4.1165e-05, 4.7260e-05, 1.4984e-04],\n",
            "        [9.0635e-03, 2.1522e-01, 1.3488e-03, 7.5798e-01, 1.0190e-02, 1.0752e-03,\n",
            "         9.2812e-04, 1.2876e-03, 7.6344e-04, 2.1446e-03],\n",
            "        [4.6490e-04, 5.2006e-07, 4.3792e-03, 4.8841e-04, 3.2598e-03, 3.2444e-03,\n",
            "         1.4561e-04, 3.8814e-03, 2.9190e-01, 6.9224e-01],\n",
            "        [4.9497e-01, 7.6632e-04, 2.8478e-01, 2.8231e-02, 1.7465e-01, 4.0933e-04,\n",
            "         1.1383e-03, 3.3381e-05, 1.4860e-02, 1.6053e-04],\n",
            "        [5.9844e-03, 5.4083e-03, 3.1923e-02, 2.0810e-02, 5.1118e-02, 6.6978e-02,\n",
            "         1.4708e-02, 5.7122e-01, 1.8531e-01, 4.6535e-02],\n",
            "        [5.4356e-02, 7.0364e-02, 7.4597e-02, 1.0379e-01, 9.6440e-02, 1.0404e-01,\n",
            "         5.7096e-02, 2.4280e-01, 1.3077e-01, 6.5754e-02]], device='cuda:0',\n",
            "       grad_fn=<SoftmaxBackward0>)\n",
            "loss : 1.8783091306686401 [0.00%]\n",
            "loss : 1.9077270030975342 [10.67%]\n",
            "loss : 1.8142009973526 [21.33%]\n",
            "loss : 1.8768529891967773 [32.00%]\n",
            "loss : 1.8502326011657715 [42.67%]\n",
            "loss : 1.8200699090957642 [53.33%]\n",
            "loss : 1.8504213094711304 [64.00%]\n",
            "loss : 1.8396995067596436 [74.67%]\n",
            "loss : 1.8579440116882324 [85.33%]\n",
            "loss : 1.8104746341705322 [96.00%]\n",
            "Test Error\n",
            " Accuracy: 66.39% Avg Loss: 1.8468087015637926\n",
            "\n"
          ]
        }
      ]
    },
    {
      "cell_type": "code",
      "source": [
        "NeuralNetwork.sw = True\n",
        "NeuralNetwork.sw"
      ],
      "metadata": {
        "id": "dh8yyQLX99s0",
        "colab": {
          "base_uri": "https://localhost:8080/"
        },
        "outputId": "efc5bd27-1062-4d21-e26e-86220ba71889"
      },
      "execution_count": null,
      "outputs": [
        {
          "output_type": "execute_result",
          "data": {
            "text/plain": [
              "True"
            ]
          },
          "metadata": {},
          "execution_count": 108
        }
      ]
    },
    {
      "cell_type": "markdown",
      "source": [
        "# ㄹㅇ 실습"
      ],
      "metadata": {
        "id": "eGUz1_4Y34Lz"
      }
    },
    {
      "cell_type": "code",
      "source": [
        "import torch\n",
        "from torch import nn\n",
        "from torch.utils.data import DataLoader\n",
        "from torchvision import datasets\n",
        "from torchvision.transforms import ToTensor"
      ],
      "metadata": {
        "id": "srB0o_lk0iYa"
      },
      "execution_count": null,
      "outputs": []
    },
    {
      "cell_type": "code",
      "source": [
        "device = 'cuda' if torch.cuda.is_available() else 'cpu'\n",
        "print(f'Using {device} device')"
      ],
      "metadata": {
        "colab": {
          "base_uri": "https://localhost:8080/"
        },
        "id": "VI5_3lJ85uOr",
        "outputId": "6eeefb54-2110-4a04-f042-4c7a9b3c4421"
      },
      "execution_count": null,
      "outputs": [
        {
          "output_type": "stream",
          "name": "stdout",
          "text": [
            "Using cuda device\n"
          ]
        }
      ]
    },
    {
      "cell_type": "code",
      "source": [
        "train_ds = datasets.FashionMNIST(\n",
        "                      path,\n",
        "                      train=True,\n",
        "                      transform=ToTensor(),\n",
        "                      download=True\n",
        ")\n",
        "test_ds = datasets.FashionMNIST(\n",
        "                      path,\n",
        "                      train=False,\n",
        "                      transform=ToTensor(),\n",
        "                      download=True\n",
        ")"
      ],
      "metadata": {
        "id": "kKsfA9NK4Zuv"
      },
      "execution_count": null,
      "outputs": []
    },
    {
      "cell_type": "code",
      "source": [
        "batch_size = 64\n",
        "\n",
        "train_dataloader = DataLoader(train_ds, batch_size=batch_size)\n",
        "test_dataloader = DataLoader(test_ds, batch_size=batch_size)"
      ],
      "metadata": {
        "id": "hZdVYAba4o7q"
      },
      "execution_count": null,
      "outputs": []
    },
    {
      "cell_type": "code",
      "source": [
        "class NeuralNetwork(nn.Module):\n",
        "  def __init__(self):\n",
        "    super().__init__()\n",
        "\n",
        "    self.flatten = nn.Flatten()\n",
        "    self.linear_relu_stack = nn.Sequential(\n",
        "                              nn.Linear(28*28, 512),\n",
        "                              nn.ReLU(),\n",
        "                              nn.Linear(512, 512),\n",
        "                              nn.ReLU(),\n",
        "                              nn.Linear(512, 10)                              \n",
        "    )\n",
        "\n",
        "  \n",
        "  def forward(self, x):\n",
        "    x = self.flatten(x)\n",
        "    return self.linear_relu_stack(x)"
      ],
      "metadata": {
        "id": "W4-k2ogS45Kr"
      },
      "execution_count": null,
      "outputs": []
    },
    {
      "cell_type": "code",
      "source": [
        "model = NeuralNetwork().to(device)\n",
        "model"
      ],
      "metadata": {
        "colab": {
          "base_uri": "https://localhost:8080/"
        },
        "id": "Sziww2MG5qbW",
        "outputId": "87a80709-e659-4748-e2d3-e3a226a54587"
      },
      "execution_count": null,
      "outputs": [
        {
          "output_type": "execute_result",
          "data": {
            "text/plain": [
              "NeuralNetwork(\n",
              "  (flatten): Flatten(start_dim=1, end_dim=-1)\n",
              "  (linear_relu_stack): Sequential(\n",
              "    (0): Linear(in_features=784, out_features=512, bias=True)\n",
              "    (1): ReLU()\n",
              "    (2): Linear(in_features=512, out_features=512, bias=True)\n",
              "    (3): ReLU()\n",
              "    (4): Linear(in_features=512, out_features=10, bias=True)\n",
              "  )\n",
              ")"
            ]
          },
          "metadata": {},
          "execution_count": 29
        }
      ]
    },
    {
      "cell_type": "code",
      "source": [
        "loss_fn = nn.CrossEntropyLoss()\n",
        "optimizer = torch.optim.SGD(model.parameters(), lr=1e-3)"
      ],
      "metadata": {
        "id": "FinSsTsw5gWI"
      },
      "execution_count": null,
      "outputs": []
    },
    {
      "cell_type": "code",
      "source": [
        "def train(dataloader, model, loss_fn, optimizer):\n",
        "  size = len(dataloader.dataset)\n",
        "\n",
        "  model.train()\n",
        "  for batch, (X, y) in enumerate(dataloader):\n",
        "    X, y = X.to(device), y.to(device)\n",
        "\n",
        "    pred = model(X)\n",
        "    loss = loss_fn(pred, y)\n",
        "\n",
        "    optimizer.zero_grad()\n",
        "    loss.backward()\n",
        "    optimizer.step()\n",
        "\n",
        "    if batch % 100 == 0:\n",
        "      current = batch*len(X)\n",
        "      print(f'Loss: {loss:>0.3f}  [{current}/{size}]')"
      ],
      "metadata": {
        "id": "yyRvwSiDWkkx"
      },
      "execution_count": null,
      "outputs": []
    },
    {
      "cell_type": "code",
      "source": [
        "def test(dataloader, model, loss_fn):\n",
        "  size = len(dataloader.dataset)\n",
        "  num_batches = len(dataloader)\n",
        "\n",
        "  model.eval()\n",
        "  test_loss, correct = 0, 0\n",
        "  with torch.no_grad():\n",
        "    for X, y in dataloader:\n",
        "      X, y = X.to(device), y.to(device)\n",
        "\n",
        "      pred = model(X)\n",
        "      loss = loss_fn(pred, y)\n",
        "\n",
        "      test_loss += loss.item()\n",
        "      correct += (pred.argmax(1) == y).type(torch.float).sum().item()\n",
        "\n",
        "  print(f'Test Error ')\n",
        "  print(f'Accuracy: {correct/size*100:>0.3f}%')\n",
        "  print(f'Avg Loss: {test_loss/num_batches:>0.3f}')\n",
        "  print()"
      ],
      "metadata": {
        "id": "lco51yUfW7RA"
      },
      "execution_count": null,
      "outputs": []
    },
    {
      "cell_type": "code",
      "source": [
        "epochs = 5\n",
        "\n",
        "for t in range(epochs):  \n",
        "  print(f'Epochs {t+1} -----------------')\n",
        "  train(train_dataloader, model, loss_fn, optimizer)\n",
        "  test(test_dataloader, model, loss_fn)"
      ],
      "metadata": {
        "colab": {
          "base_uri": "https://localhost:8080/"
        },
        "id": "c9VWKqRaYfp-",
        "outputId": "238ebaeb-1619-4879-9b41-668545be023a"
      },
      "execution_count": null,
      "outputs": [
        {
          "output_type": "stream",
          "name": "stdout",
          "text": [
            "Epochs 1 -----------------\n",
            "Loss: 2.300  [0/60000]\n",
            "Loss: 2.300  [6400/60000]\n",
            "Loss: 2.273  [12800/60000]\n",
            "Loss: 2.268  [19200/60000]\n",
            "Loss: 2.274  [25600/60000]\n",
            "Loss: 2.216  [32000/60000]\n",
            "Loss: 2.240  [38400/60000]\n",
            "Loss: 2.202  [44800/60000]\n",
            "Loss: 2.200  [51200/60000]\n",
            "Loss: 2.176  [57600/60000]\n",
            "Test Error \n",
            "Accuracy: 0.372\n",
            "Avg Loss: 2.168\n",
            "\n",
            "Epochs 2 -----------------\n",
            "Loss: 2.174  [0/60000]\n",
            "Loss: 2.177  [6400/60000]\n",
            "Loss: 2.117  [12800/60000]\n",
            "Loss: 2.132  [19200/60000]\n",
            "Loss: 2.110  [25600/60000]\n",
            "Loss: 2.023  [32000/60000]\n",
            "Loss: 2.063  [38400/60000]\n",
            "Loss: 1.988  [44800/60000]\n",
            "Loss: 1.994  [51200/60000]\n",
            "Loss: 1.931  [57600/60000]\n",
            "Test Error \n",
            "Accuracy: 0.557\n",
            "Avg Loss: 1.926\n",
            "\n",
            "Epochs 3 -----------------\n",
            "Loss: 1.950  [0/60000]\n",
            "Loss: 1.933  [6400/60000]\n",
            "Loss: 1.820  [12800/60000]\n",
            "Loss: 1.857  [19200/60000]\n",
            "Loss: 1.776  [25600/60000]\n",
            "Loss: 1.700  [32000/60000]\n",
            "Loss: 1.730  [38400/60000]\n",
            "Loss: 1.635  [44800/60000]\n",
            "Loss: 1.658  [51200/60000]\n",
            "Loss: 1.554  [57600/60000]\n",
            "Test Error \n",
            "Accuracy: 0.594\n",
            "Avg Loss: 1.567\n",
            "\n",
            "Epochs 4 -----------------\n",
            "Loss: 1.624  [0/60000]\n",
            "Loss: 1.599  [6400/60000]\n",
            "Loss: 1.451  [12800/60000]\n",
            "Loss: 1.515  [19200/60000]\n",
            "Loss: 1.416  [25600/60000]\n",
            "Loss: 1.387  [32000/60000]\n",
            "Loss: 1.406  [38400/60000]\n",
            "Loss: 1.334  [44800/60000]\n",
            "Loss: 1.365  [51200/60000]\n",
            "Loss: 1.260  [57600/60000]\n",
            "Test Error \n",
            "Accuracy: 0.629\n",
            "Avg Loss: 1.287\n",
            "\n",
            "Epochs 5 -----------------\n",
            "Loss: 1.356  [0/60000]\n",
            "Loss: 1.346  [6400/60000]\n",
            "Loss: 1.182  [12800/60000]\n",
            "Loss: 1.281  [19200/60000]\n",
            "Loss: 1.171  [25600/60000]\n",
            "Loss: 1.177  [32000/60000]\n",
            "Loss: 1.199  [38400/60000]\n",
            "Loss: 1.142  [44800/60000]\n",
            "Loss: 1.177  [51200/60000]\n",
            "Loss: 1.084  [57600/60000]\n",
            "Test Error \n",
            "Accuracy: 0.648\n",
            "Avg Loss: 1.110\n",
            "\n"
          ]
        }
      ]
    },
    {
      "cell_type": "code",
      "source": [
        "shape = (2,3)\n",
        "rand_tensor = torch.rand(shape)\n",
        "ones_tensor = torch.ones(shape)\n",
        "zeros_tensor = torch.zeros(shape)\n",
        "\n",
        "print(f\"Random Tensor: \\n {rand_tensor} \\n\")\n",
        "print(f\"Ones Tensor: \\n {ones_tensor} \\n\")\n",
        "print(f\"Zeros Tensor: \\n {zeros_tensor}\")"
      ],
      "metadata": {
        "colab": {
          "base_uri": "https://localhost:8080/"
        },
        "id": "pUed4KnKZUnn",
        "outputId": "ccba2086-fe80-4b75-9c61-fa6c62ca9f01"
      },
      "execution_count": null,
      "outputs": [
        {
          "output_type": "stream",
          "name": "stdout",
          "text": [
            "Random Tensor: \n",
            " tensor([[0.5604, 0.3820, 0.1909],\n",
            "        [0.6197, 0.4382, 0.9409]]) \n",
            "\n",
            "Ones Tensor: \n",
            " tensor([[1., 1., 1.],\n",
            "        [1., 1., 1.]]) \n",
            "\n",
            "Zeros Tensor: \n",
            " tensor([[0., 0., 0.],\n",
            "        [0., 0., 0.]])\n"
          ]
        }
      ]
    },
    {
      "cell_type": "code",
      "source": [
        "shape = (2,3,)\n",
        "rand_tensor = torch.rand(shape)\n",
        "ones_tensor = torch.ones(shape)\n",
        "zeros_tensor = torch.zeros(shape)\n",
        "\n",
        "print(f\"Random Tensor: \\n {rand_tensor} \\n\")\n",
        "print(f\"Ones Tensor: \\n {ones_tensor} \\n\")\n",
        "print(f\"Zeros Tensor: \\n {zeros_tensor}\")\n"
      ],
      "metadata": {
        "colab": {
          "base_uri": "https://localhost:8080/"
        },
        "id": "bFKkFUVOePal",
        "outputId": "38a19afa-6d6e-4277-e756-84cd0c0775f0"
      },
      "execution_count": null,
      "outputs": [
        {
          "output_type": "stream",
          "name": "stdout",
          "text": [
            "Random Tensor: \n",
            " tensor([[0.7296, 0.7968, 0.2383],\n",
            "        [0.9799, 0.1103, 0.3133]]) \n",
            "\n",
            "Ones Tensor: \n",
            " tensor([[1., 1., 1.],\n",
            "        [1., 1., 1.]]) \n",
            "\n",
            "Zeros Tensor: \n",
            " tensor([[0., 0., 0.],\n",
            "        [0., 0., 0.]])\n"
          ]
        },
        {
          "output_type": "execute_result",
          "data": {
            "text/plain": [
              "torch.Size([2, 3])"
            ]
          },
          "metadata": {},
          "execution_count": 38
        }
      ]
    },
    {
      "cell_type": "code",
      "source": [
        "print(rand_tensor.shape)"
      ],
      "metadata": {
        "colab": {
          "base_uri": "https://localhost:8080/"
        },
        "id": "nYqxbJj7eUys",
        "outputId": "9b828cde-3eb2-449f-a1a7-ea1b651447ea"
      },
      "execution_count": null,
      "outputs": [
        {
          "output_type": "stream",
          "name": "stdout",
          "text": [
            "torch.Size([2, 3])\n"
          ]
        }
      ]
    },
    {
      "cell_type": "code",
      "source": [
        "device"
      ],
      "metadata": {
        "colab": {
          "base_uri": "https://localhost:8080/",
          "height": 35
        },
        "id": "zkW9eXM57uO-",
        "outputId": "b2e5e0d9-1475-4a54-fd4d-ea1b53503293"
      },
      "execution_count": null,
      "outputs": [
        {
          "output_type": "execute_result",
          "data": {
            "text/plain": [
              "'cuda'"
            ],
            "application/vnd.google.colaboratory.intrinsic+json": {
              "type": "string"
            }
          },
          "metadata": {},
          "execution_count": 40
        }
      ]
    },
    {
      "cell_type": "code",
      "source": [
        "t = torch.rand(62, 3, 28, 28, dtype=torch.float, device=device)\n",
        "s = nn.Flatten()(t)\n",
        "s.size()"
      ],
      "metadata": {
        "colab": {
          "base_uri": "https://localhost:8080/"
        },
        "id": "lopQ3X09eesb",
        "outputId": "2a177fd2-738b-40ea-8a4a-b1c10b8a1075"
      },
      "execution_count": null,
      "outputs": [
        {
          "output_type": "execute_result",
          "data": {
            "text/plain": [
              "torch.Size([62, 2352])"
            ]
          },
          "metadata": {},
          "execution_count": 41
        }
      ]
    },
    {
      "cell_type": "code",
      "source": [
        "t = torch.rand(3, 28, 28, dtype=torch.float, device=device)\n",
        "s = nn.Flatten()(t)\n",
        "s.size()"
      ],
      "metadata": {
        "colab": {
          "base_uri": "https://localhost:8080/"
        },
        "id": "2lMEt9GM73Kg",
        "outputId": "b609d068-a8e7-493d-e9bb-40e179fe4cda"
      },
      "execution_count": null,
      "outputs": [
        {
          "output_type": "execute_result",
          "data": {
            "text/plain": [
              "torch.Size([3, 784])"
            ]
          },
          "metadata": {},
          "execution_count": 42
        }
      ]
    }
  ]
}